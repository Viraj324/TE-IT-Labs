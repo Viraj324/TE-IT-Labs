{
 "cells": [
  {
   "cell_type": "code",
   "execution_count": 1,
   "id": "de88359d-6e4d-4838-80a9-6f2080baf7df",
   "metadata": {},
   "outputs": [],
   "source": [
    "import pandas as pd\n",
    "import numpy as np\n",
    "from sklearn.linear_model import LinearRegression\n",
    "import matplotlib.pyplot as plt"
   ]
  },
  {
   "cell_type": "code",
   "execution_count": 2,
   "id": "ba2d7a16-826f-4416-894e-1b617613b077",
   "metadata": {},
   "outputs": [],
   "source": [
    "# Load the data\n",
    "data = pd.read_csv('temperatures.csv')"
   ]
  },
  {
   "cell_type": "code",
   "execution_count": 3,
   "id": "b6d10aed",
   "metadata": {},
   "outputs": [
    {
     "data": {
      "text/plain": [
       "YEAR       0\n",
       "JAN        0\n",
       "FEB        0\n",
       "MAR        0\n",
       "APR        0\n",
       "MAY        0\n",
       "JUN        0\n",
       "JUL        0\n",
       "AUG        0\n",
       "SEP        0\n",
       "OCT        0\n",
       "NOV        0\n",
       "DEC        0\n",
       "ANNUAL     0\n",
       "JAN-FEB    0\n",
       "MAR-MAY    0\n",
       "JUN-SEP    0\n",
       "OCT-DEC    0\n",
       "dtype: int64"
      ]
     },
     "execution_count": 3,
     "metadata": {},
     "output_type": "execute_result"
    }
   ],
   "source": [
    "data.isna().sum()"
   ]
  },
  {
   "cell_type": "code",
   "execution_count": 4,
   "id": "a0df1ab7-307c-498d-a4fd-b583e0317562",
   "metadata": {},
   "outputs": [
    {
     "data": {
      "text/html": [
       "<div>\n",
       "<style scoped>\n",
       "    .dataframe tbody tr th:only-of-type {\n",
       "        vertical-align: middle;\n",
       "    }\n",
       "\n",
       "    .dataframe tbody tr th {\n",
       "        vertical-align: top;\n",
       "    }\n",
       "\n",
       "    .dataframe thead th {\n",
       "        text-align: right;\n",
       "    }\n",
       "</style>\n",
       "<table border=\"1\" class=\"dataframe\">\n",
       "  <thead>\n",
       "    <tr style=\"text-align: right;\">\n",
       "      <th></th>\n",
       "      <th>YEAR</th>\n",
       "      <th>JAN</th>\n",
       "      <th>FEB</th>\n",
       "      <th>MAR</th>\n",
       "      <th>APR</th>\n",
       "      <th>MAY</th>\n",
       "      <th>JUN</th>\n",
       "      <th>JUL</th>\n",
       "      <th>AUG</th>\n",
       "      <th>SEP</th>\n",
       "      <th>OCT</th>\n",
       "      <th>NOV</th>\n",
       "      <th>DEC</th>\n",
       "      <th>ANNUAL</th>\n",
       "      <th>JAN-FEB</th>\n",
       "      <th>MAR-MAY</th>\n",
       "      <th>JUN-SEP</th>\n",
       "      <th>OCT-DEC</th>\n",
       "    </tr>\n",
       "  </thead>\n",
       "  <tbody>\n",
       "    <tr>\n",
       "      <th>0</th>\n",
       "      <td>1901</td>\n",
       "      <td>22.40</td>\n",
       "      <td>24.14</td>\n",
       "      <td>29.07</td>\n",
       "      <td>31.91</td>\n",
       "      <td>33.41</td>\n",
       "      <td>33.18</td>\n",
       "      <td>31.21</td>\n",
       "      <td>30.39</td>\n",
       "      <td>30.47</td>\n",
       "      <td>29.97</td>\n",
       "      <td>27.31</td>\n",
       "      <td>24.49</td>\n",
       "      <td>28.96</td>\n",
       "      <td>23.27</td>\n",
       "      <td>31.46</td>\n",
       "      <td>31.27</td>\n",
       "      <td>27.25</td>\n",
       "    </tr>\n",
       "    <tr>\n",
       "      <th>1</th>\n",
       "      <td>1902</td>\n",
       "      <td>24.93</td>\n",
       "      <td>26.58</td>\n",
       "      <td>29.77</td>\n",
       "      <td>31.78</td>\n",
       "      <td>33.73</td>\n",
       "      <td>32.91</td>\n",
       "      <td>30.92</td>\n",
       "      <td>30.73</td>\n",
       "      <td>29.80</td>\n",
       "      <td>29.12</td>\n",
       "      <td>26.31</td>\n",
       "      <td>24.04</td>\n",
       "      <td>29.22</td>\n",
       "      <td>25.75</td>\n",
       "      <td>31.76</td>\n",
       "      <td>31.09</td>\n",
       "      <td>26.49</td>\n",
       "    </tr>\n",
       "    <tr>\n",
       "      <th>2</th>\n",
       "      <td>1903</td>\n",
       "      <td>23.44</td>\n",
       "      <td>25.03</td>\n",
       "      <td>27.83</td>\n",
       "      <td>31.39</td>\n",
       "      <td>32.91</td>\n",
       "      <td>33.00</td>\n",
       "      <td>31.34</td>\n",
       "      <td>29.98</td>\n",
       "      <td>29.85</td>\n",
       "      <td>29.04</td>\n",
       "      <td>26.08</td>\n",
       "      <td>23.65</td>\n",
       "      <td>28.47</td>\n",
       "      <td>24.24</td>\n",
       "      <td>30.71</td>\n",
       "      <td>30.92</td>\n",
       "      <td>26.26</td>\n",
       "    </tr>\n",
       "    <tr>\n",
       "      <th>3</th>\n",
       "      <td>1904</td>\n",
       "      <td>22.50</td>\n",
       "      <td>24.73</td>\n",
       "      <td>28.21</td>\n",
       "      <td>32.02</td>\n",
       "      <td>32.64</td>\n",
       "      <td>32.07</td>\n",
       "      <td>30.36</td>\n",
       "      <td>30.09</td>\n",
       "      <td>30.04</td>\n",
       "      <td>29.20</td>\n",
       "      <td>26.36</td>\n",
       "      <td>23.63</td>\n",
       "      <td>28.49</td>\n",
       "      <td>23.62</td>\n",
       "      <td>30.95</td>\n",
       "      <td>30.66</td>\n",
       "      <td>26.40</td>\n",
       "    </tr>\n",
       "    <tr>\n",
       "      <th>4</th>\n",
       "      <td>1905</td>\n",
       "      <td>22.00</td>\n",
       "      <td>22.83</td>\n",
       "      <td>26.68</td>\n",
       "      <td>30.01</td>\n",
       "      <td>33.32</td>\n",
       "      <td>33.25</td>\n",
       "      <td>31.44</td>\n",
       "      <td>30.68</td>\n",
       "      <td>30.12</td>\n",
       "      <td>30.67</td>\n",
       "      <td>27.52</td>\n",
       "      <td>23.82</td>\n",
       "      <td>28.30</td>\n",
       "      <td>22.25</td>\n",
       "      <td>30.00</td>\n",
       "      <td>31.33</td>\n",
       "      <td>26.57</td>\n",
       "    </tr>\n",
       "  </tbody>\n",
       "</table>\n",
       "</div>"
      ],
      "text/plain": [
       "   YEAR    JAN    FEB    MAR    APR    MAY    JUN    JUL    AUG    SEP    OCT  \\\n",
       "0  1901  22.40  24.14  29.07  31.91  33.41  33.18  31.21  30.39  30.47  29.97   \n",
       "1  1902  24.93  26.58  29.77  31.78  33.73  32.91  30.92  30.73  29.80  29.12   \n",
       "2  1903  23.44  25.03  27.83  31.39  32.91  33.00  31.34  29.98  29.85  29.04   \n",
       "3  1904  22.50  24.73  28.21  32.02  32.64  32.07  30.36  30.09  30.04  29.20   \n",
       "4  1905  22.00  22.83  26.68  30.01  33.32  33.25  31.44  30.68  30.12  30.67   \n",
       "\n",
       "     NOV    DEC  ANNUAL  JAN-FEB  MAR-MAY  JUN-SEP  OCT-DEC  \n",
       "0  27.31  24.49   28.96    23.27    31.46    31.27    27.25  \n",
       "1  26.31  24.04   29.22    25.75    31.76    31.09    26.49  \n",
       "2  26.08  23.65   28.47    24.24    30.71    30.92    26.26  \n",
       "3  26.36  23.63   28.49    23.62    30.95    30.66    26.40  \n",
       "4  27.52  23.82   28.30    22.25    30.00    31.33    26.57  "
      ]
     },
     "execution_count": 4,
     "metadata": {},
     "output_type": "execute_result"
    }
   ],
   "source": [
    "data.head()\n"
   ]
  },
  {
   "cell_type": "code",
   "execution_count": 5,
   "id": "18d19f1a",
   "metadata": {},
   "outputs": [
    {
     "data": {
      "text/plain": [
       "(117, 18)"
      ]
     },
     "execution_count": 5,
     "metadata": {},
     "output_type": "execute_result"
    }
   ],
   "source": [
    "data.shape"
   ]
  },
  {
   "cell_type": "code",
   "execution_count": 6,
   "id": "cd88e672",
   "metadata": {},
   "outputs": [
    {
     "name": "stdout",
     "output_type": "stream",
     "text": [
      "<class 'pandas.core.frame.DataFrame'>\n",
      "RangeIndex: 117 entries, 0 to 116\n",
      "Data columns (total 18 columns):\n",
      " #   Column   Non-Null Count  Dtype  \n",
      "---  ------   --------------  -----  \n",
      " 0   YEAR     117 non-null    int64  \n",
      " 1   JAN      117 non-null    float64\n",
      " 2   FEB      117 non-null    float64\n",
      " 3   MAR      117 non-null    float64\n",
      " 4   APR      117 non-null    float64\n",
      " 5   MAY      117 non-null    float64\n",
      " 6   JUN      117 non-null    float64\n",
      " 7   JUL      117 non-null    float64\n",
      " 8   AUG      117 non-null    float64\n",
      " 9   SEP      117 non-null    float64\n",
      " 10  OCT      117 non-null    float64\n",
      " 11  NOV      117 non-null    float64\n",
      " 12  DEC      117 non-null    float64\n",
      " 13  ANNUAL   117 non-null    float64\n",
      " 14  JAN-FEB  117 non-null    float64\n",
      " 15  MAR-MAY  117 non-null    float64\n",
      " 16  JUN-SEP  117 non-null    float64\n",
      " 17  OCT-DEC  117 non-null    float64\n",
      "dtypes: float64(17), int64(1)\n",
      "memory usage: 16.6 KB\n"
     ]
    }
   ],
   "source": [
    "data.info()"
   ]
  },
  {
   "cell_type": "code",
   "execution_count": 7,
   "id": "cd6547dd-9ff4-43db-b9a8-e65ee3be63b9",
   "metadata": {},
   "outputs": [
    {
     "data": {
      "text/html": [
       "<div>\n",
       "<style scoped>\n",
       "    .dataframe tbody tr th:only-of-type {\n",
       "        vertical-align: middle;\n",
       "    }\n",
       "\n",
       "    .dataframe tbody tr th {\n",
       "        vertical-align: top;\n",
       "    }\n",
       "\n",
       "    .dataframe thead th {\n",
       "        text-align: right;\n",
       "    }\n",
       "</style>\n",
       "<table border=\"1\" class=\"dataframe\">\n",
       "  <thead>\n",
       "    <tr style=\"text-align: right;\">\n",
       "      <th></th>\n",
       "      <th>YEAR</th>\n",
       "      <th>JAN</th>\n",
       "      <th>FEB</th>\n",
       "      <th>MAR</th>\n",
       "      <th>APR</th>\n",
       "      <th>MAY</th>\n",
       "      <th>JUN</th>\n",
       "      <th>JUL</th>\n",
       "      <th>AUG</th>\n",
       "      <th>SEP</th>\n",
       "      <th>OCT</th>\n",
       "      <th>NOV</th>\n",
       "      <th>DEC</th>\n",
       "      <th>ANNUAL</th>\n",
       "      <th>JAN-FEB</th>\n",
       "      <th>MAR-MAY</th>\n",
       "      <th>JUN-SEP</th>\n",
       "      <th>OCT-DEC</th>\n",
       "    </tr>\n",
       "  </thead>\n",
       "  <tbody>\n",
       "    <tr>\n",
       "      <th>count</th>\n",
       "      <td>117.000000</td>\n",
       "      <td>117.000000</td>\n",
       "      <td>117.000000</td>\n",
       "      <td>117.000000</td>\n",
       "      <td>117.000000</td>\n",
       "      <td>117.000000</td>\n",
       "      <td>117.000000</td>\n",
       "      <td>117.000000</td>\n",
       "      <td>117.000000</td>\n",
       "      <td>117.000000</td>\n",
       "      <td>117.000000</td>\n",
       "      <td>117.000000</td>\n",
       "      <td>117.000000</td>\n",
       "      <td>117.000000</td>\n",
       "      <td>117.000000</td>\n",
       "      <td>117.000000</td>\n",
       "      <td>117.000000</td>\n",
       "      <td>117.000000</td>\n",
       "    </tr>\n",
       "    <tr>\n",
       "      <th>mean</th>\n",
       "      <td>1959.000000</td>\n",
       "      <td>23.687436</td>\n",
       "      <td>25.597863</td>\n",
       "      <td>29.085983</td>\n",
       "      <td>31.975812</td>\n",
       "      <td>33.565299</td>\n",
       "      <td>32.774274</td>\n",
       "      <td>31.035897</td>\n",
       "      <td>30.507692</td>\n",
       "      <td>30.486752</td>\n",
       "      <td>29.766581</td>\n",
       "      <td>27.285470</td>\n",
       "      <td>24.608291</td>\n",
       "      <td>29.181368</td>\n",
       "      <td>24.629573</td>\n",
       "      <td>31.517607</td>\n",
       "      <td>31.198205</td>\n",
       "      <td>27.208120</td>\n",
       "    </tr>\n",
       "    <tr>\n",
       "      <th>std</th>\n",
       "      <td>33.919021</td>\n",
       "      <td>0.834588</td>\n",
       "      <td>1.150757</td>\n",
       "      <td>1.068451</td>\n",
       "      <td>0.889478</td>\n",
       "      <td>0.724905</td>\n",
       "      <td>0.633132</td>\n",
       "      <td>0.468818</td>\n",
       "      <td>0.476312</td>\n",
       "      <td>0.544295</td>\n",
       "      <td>0.705492</td>\n",
       "      <td>0.714518</td>\n",
       "      <td>0.782644</td>\n",
       "      <td>0.555555</td>\n",
       "      <td>0.911239</td>\n",
       "      <td>0.740585</td>\n",
       "      <td>0.420508</td>\n",
       "      <td>0.672003</td>\n",
       "    </tr>\n",
       "    <tr>\n",
       "      <th>min</th>\n",
       "      <td>1901.000000</td>\n",
       "      <td>22.000000</td>\n",
       "      <td>22.830000</td>\n",
       "      <td>26.680000</td>\n",
       "      <td>30.010000</td>\n",
       "      <td>31.930000</td>\n",
       "      <td>31.100000</td>\n",
       "      <td>29.760000</td>\n",
       "      <td>29.310000</td>\n",
       "      <td>29.070000</td>\n",
       "      <td>27.900000</td>\n",
       "      <td>25.700000</td>\n",
       "      <td>23.020000</td>\n",
       "      <td>28.110000</td>\n",
       "      <td>22.250000</td>\n",
       "      <td>29.920000</td>\n",
       "      <td>30.240000</td>\n",
       "      <td>25.740000</td>\n",
       "    </tr>\n",
       "    <tr>\n",
       "      <th>25%</th>\n",
       "      <td>1930.000000</td>\n",
       "      <td>23.100000</td>\n",
       "      <td>24.780000</td>\n",
       "      <td>28.370000</td>\n",
       "      <td>31.460000</td>\n",
       "      <td>33.110000</td>\n",
       "      <td>32.340000</td>\n",
       "      <td>30.740000</td>\n",
       "      <td>30.180000</td>\n",
       "      <td>30.120000</td>\n",
       "      <td>29.380000</td>\n",
       "      <td>26.790000</td>\n",
       "      <td>24.040000</td>\n",
       "      <td>28.760000</td>\n",
       "      <td>24.110000</td>\n",
       "      <td>31.040000</td>\n",
       "      <td>30.920000</td>\n",
       "      <td>26.700000</td>\n",
       "    </tr>\n",
       "    <tr>\n",
       "      <th>50%</th>\n",
       "      <td>1959.000000</td>\n",
       "      <td>23.680000</td>\n",
       "      <td>25.480000</td>\n",
       "      <td>29.040000</td>\n",
       "      <td>31.950000</td>\n",
       "      <td>33.510000</td>\n",
       "      <td>32.730000</td>\n",
       "      <td>31.000000</td>\n",
       "      <td>30.540000</td>\n",
       "      <td>30.520000</td>\n",
       "      <td>29.780000</td>\n",
       "      <td>27.300000</td>\n",
       "      <td>24.660000</td>\n",
       "      <td>29.090000</td>\n",
       "      <td>24.530000</td>\n",
       "      <td>31.470000</td>\n",
       "      <td>31.190000</td>\n",
       "      <td>27.210000</td>\n",
       "    </tr>\n",
       "    <tr>\n",
       "      <th>75%</th>\n",
       "      <td>1988.000000</td>\n",
       "      <td>24.180000</td>\n",
       "      <td>26.310000</td>\n",
       "      <td>29.610000</td>\n",
       "      <td>32.420000</td>\n",
       "      <td>34.030000</td>\n",
       "      <td>33.180000</td>\n",
       "      <td>31.330000</td>\n",
       "      <td>30.760000</td>\n",
       "      <td>30.810000</td>\n",
       "      <td>30.170000</td>\n",
       "      <td>27.720000</td>\n",
       "      <td>25.110000</td>\n",
       "      <td>29.470000</td>\n",
       "      <td>25.150000</td>\n",
       "      <td>31.890000</td>\n",
       "      <td>31.400000</td>\n",
       "      <td>27.610000</td>\n",
       "    </tr>\n",
       "    <tr>\n",
       "      <th>max</th>\n",
       "      <td>2017.000000</td>\n",
       "      <td>26.940000</td>\n",
       "      <td>29.720000</td>\n",
       "      <td>32.620000</td>\n",
       "      <td>35.380000</td>\n",
       "      <td>35.840000</td>\n",
       "      <td>34.480000</td>\n",
       "      <td>32.760000</td>\n",
       "      <td>31.840000</td>\n",
       "      <td>32.220000</td>\n",
       "      <td>32.290000</td>\n",
       "      <td>30.110000</td>\n",
       "      <td>28.010000</td>\n",
       "      <td>31.630000</td>\n",
       "      <td>28.330000</td>\n",
       "      <td>34.570000</td>\n",
       "      <td>32.410000</td>\n",
       "      <td>30.030000</td>\n",
       "    </tr>\n",
       "  </tbody>\n",
       "</table>\n",
       "</div>"
      ],
      "text/plain": [
       "              YEAR         JAN         FEB         MAR         APR  \\\n",
       "count   117.000000  117.000000  117.000000  117.000000  117.000000   \n",
       "mean   1959.000000   23.687436   25.597863   29.085983   31.975812   \n",
       "std      33.919021    0.834588    1.150757    1.068451    0.889478   \n",
       "min    1901.000000   22.000000   22.830000   26.680000   30.010000   \n",
       "25%    1930.000000   23.100000   24.780000   28.370000   31.460000   \n",
       "50%    1959.000000   23.680000   25.480000   29.040000   31.950000   \n",
       "75%    1988.000000   24.180000   26.310000   29.610000   32.420000   \n",
       "max    2017.000000   26.940000   29.720000   32.620000   35.380000   \n",
       "\n",
       "              MAY         JUN         JUL         AUG         SEP         OCT  \\\n",
       "count  117.000000  117.000000  117.000000  117.000000  117.000000  117.000000   \n",
       "mean    33.565299   32.774274   31.035897   30.507692   30.486752   29.766581   \n",
       "std      0.724905    0.633132    0.468818    0.476312    0.544295    0.705492   \n",
       "min     31.930000   31.100000   29.760000   29.310000   29.070000   27.900000   \n",
       "25%     33.110000   32.340000   30.740000   30.180000   30.120000   29.380000   \n",
       "50%     33.510000   32.730000   31.000000   30.540000   30.520000   29.780000   \n",
       "75%     34.030000   33.180000   31.330000   30.760000   30.810000   30.170000   \n",
       "max     35.840000   34.480000   32.760000   31.840000   32.220000   32.290000   \n",
       "\n",
       "              NOV         DEC      ANNUAL     JAN-FEB     MAR-MAY     JUN-SEP  \\\n",
       "count  117.000000  117.000000  117.000000  117.000000  117.000000  117.000000   \n",
       "mean    27.285470   24.608291   29.181368   24.629573   31.517607   31.198205   \n",
       "std      0.714518    0.782644    0.555555    0.911239    0.740585    0.420508   \n",
       "min     25.700000   23.020000   28.110000   22.250000   29.920000   30.240000   \n",
       "25%     26.790000   24.040000   28.760000   24.110000   31.040000   30.920000   \n",
       "50%     27.300000   24.660000   29.090000   24.530000   31.470000   31.190000   \n",
       "75%     27.720000   25.110000   29.470000   25.150000   31.890000   31.400000   \n",
       "max     30.110000   28.010000   31.630000   28.330000   34.570000   32.410000   \n",
       "\n",
       "          OCT-DEC  \n",
       "count  117.000000  \n",
       "mean    27.208120  \n",
       "std      0.672003  \n",
       "min     25.740000  \n",
       "25%     26.700000  \n",
       "50%     27.210000  \n",
       "75%     27.610000  \n",
       "max     30.030000  "
      ]
     },
     "execution_count": 7,
     "metadata": {},
     "output_type": "execute_result"
    }
   ],
   "source": [
    "data.describe()"
   ]
  },
  {
   "cell_type": "code",
   "execution_count": 7,
   "id": "3de3a6c5-e298-4179-b664-dff226ba9de4",
   "metadata": {},
   "outputs": [
    {
     "data": {
      "image/png": "[encoded data removed]",
      "text/plain": [
       "<Figure size 640x480 with 1 Axes>"
      ]
     },
     "metadata": {},
     "output_type": "display_data"
    }
   ],
   "source": [
    "data.shape\n",
    "plt.hist(data['ANNUAL'],bins = 15)\n",
    "plt.xlabel('Annual Temperature')\n",
    "plt.title('Histogram for annual temp')\n",
    "plt.show()"
   ]
  },
  {
   "cell_type": "code",
   "execution_count": 8,
   "id": "bbe38347-f80d-483f-b6d0-872e38c93235",
   "metadata": {},
   "outputs": [],
   "source": [
    "X = data['YEAR'].values[:,None]\n",
    "y = data['JAN']"
   ]
  },
  {
   "cell_type": "code",
   "execution_count": 19,
   "id": "15f49e81-10b2-4a22-8eb5-ce38afd36e29",
   "metadata": {},
   "outputs": [
    {
     "data": {
      "text/plain": [
       "array([[1901],\n",
       "       [1902],\n",
       "       [1903],\n",
       "       [1904],\n",
       "       [1905],\n",
       "       [1906],\n",
       "       [1907],\n",
       "       [1908],\n",
       "       [1909],\n",
       "       [1910],\n",
       "       [1911],\n",
       "       [1912],\n",
       "       [1913],\n",
       "       [1914],\n",
       "       [1915],\n",
       "       [1916],\n",
       "       [1917],\n",
       "       [1918],\n",
       "       [1919],\n",
       "       [1920],\n",
       "       [1921],\n",
       "       [1922],\n",
       "       [1923],\n",
       "       [1924],\n",
       "       [1925],\n",
       "       [1926],\n",
       "       [1927],\n",
       "       [1928],\n",
       "       [1929],\n",
       "       [1930],\n",
       "       [1931],\n",
       "       [1932],\n",
       "       [1933],\n",
       "       [1934],\n",
       "       [1935],\n",
       "       [1936],\n",
       "       [1937],\n",
       "       [1938],\n",
       "       [1939],\n",
       "       [1940],\n",
       "       [1941],\n",
       "       [1942],\n",
       "       [1943],\n",
       "       [1944],\n",
       "       [1945],\n",
       "       [1946],\n",
       "       [1947],\n",
       "       [1948],\n",
       "       [1949],\n",
       "       [1950],\n",
       "       [1951],\n",
       "       [1952],\n",
       "       [1953],\n",
       "       [1954],\n",
       "       [1955],\n",
       "       [1956],\n",
       "       [1957],\n",
       "       [1958],\n",
       "       [1959],\n",
       "       [1960],\n",
       "       [1961],\n",
       "       [1962],\n",
       "       [1963],\n",
       "       [1964],\n",
       "       [1965],\n",
       "       [1966],\n",
       "       [1967],\n",
       "       [1968],\n",
       "       [1969],\n",
       "       [1970],\n",
       "       [1971],\n",
       "       [1972],\n",
       "       [1973],\n",
       "       [1974],\n",
       "       [1975],\n",
       "       [1976],\n",
       "       [1977],\n",
       "       [1978],\n",
       "       [1979],\n",
       "       [1980],\n",
       "       [1981],\n",
       "       [1982],\n",
       "       [1983],\n",
       "       [1984],\n",
       "       [1985],\n",
       "       [1986],\n",
       "       [1987],\n",
       "       [1988],\n",
       "       [1989],\n",
       "       [1990],\n",
       "       [1991],\n",
       "       [1992],\n",
       "       [1993],\n",
       "       [1994],\n",
       "       [1995],\n",
       "       [1996],\n",
       "       [1997],\n",
       "       [1998],\n",
       "       [1999],\n",
       "       [2000],\n",
       "       [2001],\n",
       "       [2002],\n",
       "       [2003],\n",
       "       [2004],\n",
       "       [2005],\n",
       "       [2006],\n",
       "       [2007],\n",
       "       [2008],\n",
       "       [2009],\n",
       "       [2010],\n",
       "       [2011],\n",
       "       [2012],\n",
       "       [2013],\n",
       "       [2014],\n",
       "       [2015],\n",
       "       [2016],\n",
       "       [2017]], dtype=int64)"
      ]
     },
     "execution_count": 19,
     "metadata": {},
     "output_type": "execute_result"
    }
   ],
   "source": [
    "X"
   ]
  },
  {
   "cell_type": "code",
   "execution_count": 11,
   "id": "f6e767b9-db68-47cc-8591-230a61fd246c",
   "metadata": {},
   "outputs": [
    {
     "data": {
      "text/plain": [
       "0      22.40\n",
       "1      24.93\n",
       "2      23.44\n",
       "3      22.50\n",
       "4      22.00\n",
       "       ...  \n",
       "112    24.56\n",
       "113    23.83\n",
       "114    24.58\n",
       "115    26.94\n",
       "116    26.45\n",
       "Name: JAN, Length: 117, dtype: float64"
      ]
     },
     "execution_count": 11,
     "metadata": {},
     "output_type": "execute_result"
    }
   ],
   "source": [
    "y"
   ]
  },
  {
   "cell_type": "code",
   "execution_count": 10,
   "id": "6db29397-a85b-421d-b4a7-be566116e91a",
   "metadata": {},
   "outputs": [],
   "source": [
    "#Split the data into training and test datasets\n",
    "from sklearn.model_selection import train_test_split\n",
    "X_train, X_test, y_train, y_test = train_test_split(X, y, test_size = 0.3,\n",
    "random_state = 0)"
   ]
  },
  {
   "cell_type": "code",
   "execution_count": 11,
   "id": "bd1ad624-8fa8-4dd1-810d-218469d9db56",
   "metadata": {},
   "outputs": [
    {
     "data": {
      "text/plain": [
       "10     23.22\n",
       "59     23.78\n",
       "95     25.18\n",
       "91     23.84\n",
       "7      23.57\n",
       "86     23.81\n",
       "26     23.23\n",
       "112    24.56\n",
       "22     23.25\n",
       "94     24.44\n",
       "101    24.56\n",
       "2      23.44\n",
       "50     24.36\n",
       "24     22.56\n",
       "116    26.45\n",
       "62     22.90\n",
       "93     24.67\n",
       "74     23.15\n",
       "61     22.89\n",
       "73     23.54\n",
       "16     23.68\n",
       "108    25.27\n",
       "13     24.42\n",
       "43     23.17\n",
       "105    25.66\n",
       "33     22.76\n",
       "30     24.57\n",
       "56     22.98\n",
       "48     24.31\n",
       "8      22.67\n",
       "97     23.95\n",
       "66     23.72\n",
       "109    24.89\n",
       "3      22.50\n",
       "63     23.06\n",
       "6      24.46\n",
       "Name: JAN, dtype: float64"
      ]
     },
     "execution_count": 11,
     "metadata": {},
     "output_type": "execute_result"
    }
   ],
   "source": [
    "y_test"
   ]
  },
  {
   "cell_type": "code",
   "execution_count": 12,
   "id": "4155348e-4ab1-4721-b812-ff0df7548e2f",
   "metadata": {},
   "outputs": [
    {
     "data": {
      "text/html": [
       "<style>#sk-container-id-1 {color: black;background-color: white;}#sk-container-id-1 pre{padding: 0;}#sk-container-id-1 div.sk-toggleable {background-color: white;}#sk-container-id-1 label.sk-toggleable__label {cursor: pointer;display: block;width: 100%;margin-bottom: 0;padding: 0.3em;box-sizing: border-box;text-align: center;}#sk-container-id-1 label.sk-toggleable__label-arrow:before {content: \"▸\";float: left;margin-right: 0.25em;color: #696969;}#sk-container-id-1 label.sk-toggleable__label-arrow:hover:before {color: black;}#sk-container-id-1 div.sk-estimator:hover label.sk-toggleable__label-arrow:before {color: black;}#sk-container-id-1 div.sk-toggleable__content {max-height: 0;max-width: 0;overflow: hidden;text-align: left;background-color: #f0f8ff;}#sk-container-id-1 div.sk-toggleable__content pre {margin: 0.2em;color: black;border-radius: 0.25em;background-color: #f0f8ff;}#sk-container-id-1 input.sk-toggleable__control:checked~div.sk-toggleable__content {max-height: 200px;max-width: 100%;overflow: auto;}#sk-container-id-1 input.sk-toggleable__control:checked~label.sk-toggleable__label-arrow:before {content: \"▾\";}#sk-container-id-1 div.sk-estimator input.sk-toggleable__control:checked~label.sk-toggleable__label {background-color: #d4ebff;}#sk-container-id-1 div.sk-label input.sk-toggleable__control:checked~label.sk-toggleable__label {background-color: #d4ebff;}#sk-container-id-1 input.sk-hidden--visually {border: 0;clip: rect(1px 1px 1px 1px);clip: rect(1px, 1px, 1px, 1px);height: 1px;margin: -1px;overflow: hidden;padding: 0;position: absolute;width: 1px;}#sk-container-id-1 div.sk-estimator {font-family: monospace;background-color: #f0f8ff;border: 1px dotted black;border-radius: 0.25em;box-sizing: border-box;margin-bottom: 0.5em;}#sk-container-id-1 div.sk-estimator:hover {background-color: #d4ebff;}#sk-container-id-1 div.sk-parallel-item::after {content: \"\";width: 100%;border-bottom: 1px solid gray;flex-grow: 1;}#sk-container-id-1 div.sk-label:hover label.sk-toggleable__label {background-color: #d4ebff;}#sk-container-id-1 div.sk-serial::before {content: \"\";position: absolute;border-left: 1px solid gray;box-sizing: border-box;top: 0;bottom: 0;left: 50%;z-index: 0;}#sk-container-id-1 div.sk-serial {display: flex;flex-direction: column;align-items: center;background-color: white;padding-right: 0.2em;padding-left: 0.2em;position: relative;}#sk-container-id-1 div.sk-item {position: relative;z-index: 1;}#sk-container-id-1 div.sk-parallel {display: flex;align-items: stretch;justify-content: center;background-color: white;position: relative;}#sk-container-id-1 div.sk-item::before, #sk-container-id-1 div.sk-parallel-item::before {content: \"\";position: absolute;border-left: 1px solid gray;box-sizing: border-box;top: 0;bottom: 0;left: 50%;z-index: -1;}#sk-container-id-1 div.sk-parallel-item {display: flex;flex-direction: column;z-index: 1;position: relative;background-color: white;}#sk-container-id-1 div.sk-parallel-item:first-child::after {align-self: flex-end;width: 50%;}#sk-container-id-1 div.sk-parallel-item:last-child::after {align-self: flex-start;width: 50%;}#sk-container-id-1 div.sk-parallel-item:only-child::after {width: 0;}#sk-container-id-1 div.sk-dashed-wrapped {border: 1px dashed gray;margin: 0 0.4em 0.5em 0.4em;box-sizing: border-box;padding-bottom: 0.4em;background-color: white;}#sk-container-id-1 div.sk-label label {font-family: monospace;font-weight: bold;display: inline-block;line-height: 1.2em;}#sk-container-id-1 div.sk-label-container {text-align: center;}#sk-container-id-1 div.sk-container {/* jupyter's `normalize.less` sets `[hidden] { display: none; }` but bootstrap.min.css set `[hidden] { display: none !important; }` so we also need the `!important` here to be able to override the default hidden behavior on the sphinx rendered scikit-learn.org. See: https://github.com/scikit-learn/scikit-learn/issues/21755 */display: inline-block !important;position: relative;}#sk-container-id-1 div.sk-text-repr-fallback {display: none;}</style><div id=\"sk-container-id-1\" class=\"sk-top-container\"><div class=\"sk-text-repr-fallback\"><pre>LinearRegression()</pre><b>In a Jupyter environment, please rerun this cell to show the HTML representation or trust the notebook. <br />On GitHub, the HTML representation is unable to render, please try loading this page with nbviewer.org.</b></div><div class=\"sk-container\" hidden><div class=\"sk-item\"><div class=\"sk-estimator sk-toggleable\"><input class=\"sk-toggleable__control sk-hidden--visually\" id=\"sk-estimator-id-1\" type=\"checkbox\" checked><label for=\"sk-estimator-id-1\" class=\"sk-toggleable__label sk-toggleable__label-arrow\">LinearRegression</label><div class=\"sk-toggleable__content\"><pre>LinearRegression()</pre></div></div></div></div></div>"
      ],
      "text/plain": [
       "LinearRegression()"
      ]
     },
     "execution_count": 12,
     "metadata": {},
     "output_type": "execute_result"
    }
   ],
   "source": [
    "# from sklearn.linear_model import train_test_split\n",
    "model1 = LinearRegression()\n",
    "model1.fit(X_train,y_train)"
   ]
  },
  {
   "cell_type": "code",
   "execution_count": 13,
   "id": "1a858c10-c83f-4c27-ab14-007ade8b31bc",
   "metadata": {},
   "outputs": [],
   "source": [
    "y_test_predict = model1.predict(X_test)\n",
    "y_train_predict = model1.predict(X_train)"
   ]
  },
  {
   "cell_type": "code",
   "execution_count": 16,
   "id": "cd6af94a-dd81-4f1f-a3e5-8322e3beabdf",
   "metadata": {},
   "outputs": [
    {
     "data": {
      "image/png": "[encoded data removed]",
      "text/plain": [
       "<Figure size 640x480 with 1 Axes>"
      ]
     },
     "metadata": {},
     "output_type": "display_data"
    }
   ],
   "source": [
    "plt.scatter(X_train,y_train,color = 'orange',label='actual')\n",
    "plt.plot(X_test,y_test_predict,color='green',label='predicted')\n",
    "plt.xlabel('year')\n",
    "plt.ylabel('temp')\n",
    "plt.title('temp prediction jan')\n",
    "plt.legend()\n",
    "plt.show()"
   ]
  },
  {
   "cell_type": "code",
   "execution_count": 14,
   "id": "daa0db46-4c58-4cef-8c95-295633d8a875",
   "metadata": {},
   "outputs": [
    {
     "data": {
      "text/plain": [
       "10     23.22\n",
       "59     23.78\n",
       "95     25.18\n",
       "91     23.84\n",
       "7      23.57\n",
       "86     23.81\n",
       "26     23.23\n",
       "112    24.56\n",
       "22     23.25\n",
       "94     24.44\n",
       "101    24.56\n",
       "2      23.44\n",
       "50     24.36\n",
       "24     22.56\n",
       "116    26.45\n",
       "62     22.90\n",
       "93     24.67\n",
       "74     23.15\n",
       "61     22.89\n",
       "73     23.54\n",
       "16     23.68\n",
       "108    25.27\n",
       "13     24.42\n",
       "43     23.17\n",
       "105    25.66\n",
       "33     22.76\n",
       "30     24.57\n",
       "56     22.98\n",
       "48     24.31\n",
       "8      22.67\n",
       "97     23.95\n",
       "66     23.72\n",
       "109    24.89\n",
       "3      22.50\n",
       "63     23.06\n",
       "6      24.46\n",
       "Name: JAN, dtype: float64"
      ]
     },
     "execution_count": 14,
     "metadata": {},
     "output_type": "execute_result"
    }
   ],
   "source": [
    "\n",
    "y_predict = model1.predict(X_test)\n",
    "y_predict\n",
    "y_test\n"
   ]
  },
  {
   "cell_type": "code",
   "execution_count": 15,
   "id": "8bda0998-0f4b-4855-8ce6-b18570afbab9",
   "metadata": {},
   "outputs": [
    {
     "name": "stdout",
     "output_type": "stream",
     "text": [
      "R-Square Error: 0.27921723515312413\n"
     ]
    }
   ],
   "source": [
    "from sklearn import metrics\n",
    "\n",
    "r_square = metrics.r2_score(y_test, y_test_predict)\n",
    "print('R-Square Error:', r_square)\n"
   ]
  },
  {
   "cell_type": "code",
   "execution_count": 16,
   "id": "36e11a6d-76a4-48f7-88b9-d39df5d77826",
   "metadata": {},
   "outputs": [
    {
     "name": "stdout",
     "output_type": "stream",
     "text": [
      "Mean Squared Error: 0.6080338203121165\n",
      "Root Mean Squared Error: 0.7797652341006981\n",
      "Mean Absolute Error: 0.6231302838065337\n"
     ]
    }
   ],
   "source": [
    "from sklearn import metrics\n",
    "\n",
    "mse = metrics.mean_squared_error(y_test, y_test_predict)\n",
    "print('Mean Squared Error:', mse)\n",
    "\n",
    "rmse = np.sqrt(mse)\n",
    "print('Root Mean Squared Error:', rmse)\n",
    "\n",
    "mae = metrics.mean_absolute_error(y_test, y_test_predict)\n",
    "print('Mean Absolute Error:', mae)\n"
   ]
  },
  {
   "cell_type": "code",
   "execution_count": null,
   "id": "2c090117-84ed-4a5f-96d0-5098bff7cf45",
   "metadata": {},
   "outputs": [],
   "source": []
  },
  {
   "cell_type": "code",
   "execution_count": 24,
   "id": "9080613e",
   "metadata": {},
   "outputs": [
    {
     "name": "stdout",
     "output_type": "stream",
     "text": [
      "Enter a month number (1-12): 2\n"
     ]
    },
    {
     "data": {
      "image/png": "[encoded data removed]",
      "text/plain": [
       "<Figure size 640x480 with 1 Axes>"
      ]
     },
     "metadata": {},
     "output_type": "display_data"
    },
    {
     "name": "stdout",
     "output_type": "stream",
     "text": [
      "February - R-Square: 0.08, MSE: 1.66, RMSE: 1.29, MAE: 1.00\n"
     ]
    }
   ],
   "source": [
    "import pandas as pd\n",
    "import numpy as np\n",
    "from sklearn.model_selection import train_test_split\n",
    "from sklearn.tree import DecisionTreeRegressor\n",
    "from sklearn import metrics\n",
    "import matplotlib.pyplot as plt\n",
    "\n",
    "# Load the data\n",
    "data = pd.read_csv('temperatures.csv')\n",
    "\n",
    "# Define a dictionary to map months to column names\n",
    "month_columns = {\n",
    "    'JAN': 'January',\n",
    "    'FEB': 'February',\n",
    "    'MAR': 'March',\n",
    "    'APR': 'April',\n",
    "    'MAY': 'May',\n",
    "    'JUN': 'June',\n",
    "    'JUL': 'July',\n",
    "    'AUG': 'August',\n",
    "    'SEP': 'September',\n",
    "    'OCT': 'October',\n",
    "    'NOV': 'November',\n",
    "    'DEC': 'December'\n",
    "}\n",
    "\n",
    "# Define a dictionary to map months to their corresponding number\n",
    "month_number_mapping = {\n",
    "    1: 'JAN',\n",
    "    2: 'FEB',\n",
    "    3: 'MAR',\n",
    "    4: 'APR',\n",
    "    5: 'MAY',\n",
    "    6: 'JUN',\n",
    "    7: 'JUL',\n",
    "    8: 'AUG',\n",
    "    9: 'SEP',\n",
    "    10: 'OCT',\n",
    "    11: 'NOV',\n",
    "    12: 'DEC'\n",
    "}\n",
    "\n",
    "# Get user input for month number\n",
    "while True:\n",
    "    try:\n",
    "        month_number = int(input(\"Enter a month number (1-12): \"))\n",
    "        if month_number < 1 or month_number > 12:\n",
    "            print(\"Please enter a valid month number between 1 and 12.\")\n",
    "        else:\n",
    "            break\n",
    "    except ValueError:\n",
    "        print(\"Invalid input. Please enter a valid number.\")\n",
    "\n",
    "# Retrieve the corresponding month code and name using the dictionaries\n",
    "month_code = month_number_mapping[month_number]\n",
    "month_name = month_columns[month_code]\n",
    "\n",
    "X = data['YEAR'].values.reshape(-1, 1)\n",
    "y = data[month_code]\n",
    "\n",
    "X_train, X_test, y_train, y_test = train_test_split(X, y, test_size=0.3, random_state=0)\n",
    "\n",
    "model = DecisionTreeRegressor()\n",
    "model.fit(X_train, y_train)\n",
    "\n",
    "y_test_predict = model.predict(X_test)\n",
    "y_train_predict = model.predict(X_train)\n",
    "\n",
    "plt.scatter(X_train, y_train, color='orange', label='actual')\n",
    "plt.scatter(X_test, y_test_predict, color='green', label='predicted')\n",
    "plt.xlabel('Year')\n",
    "plt.ylabel('Temperature')\n",
    "plt.title(f'Temperature Prediction - {month_name}')\n",
    "plt.legend()\n",
    "plt.show()\n",
    "\n",
    "# Calculate and print evaluation metrics\n",
    "r_square = metrics.r2_score(y_test, y_test_predict)\n",
    "mse = metrics.mean_squared_error(y_test, y_test_predict)\n",
    "rmse = np.sqrt(mse)\n",
    "mae = metrics.mean_absolute_error(y_test, y_test_predict)\n",
    "\n",
    "print(f'{month_name} - R-Square: {r_square:.2f}, MSE: {mse:.2f}, RMSE: {rmse:.2f}, MAE: {mae:.2f}')\n"
   ]
  },
  {
   "cell_type": "code",
   "execution_count": 25,
   "id": "5623ca55",
   "metadata": {},
   "outputs": [
    {
     "data": {
      "text/html": [
       "<style>#sk-container-id-2 {color: black;background-color: white;}#sk-container-id-2 pre{padding: 0;}#sk-container-id-2 div.sk-toggleable {background-color: white;}#sk-container-id-2 label.sk-toggleable__label {cursor: pointer;display: block;width: 100%;margin-bottom: 0;padding: 0.3em;box-sizing: border-box;text-align: center;}#sk-container-id-2 label.sk-toggleable__label-arrow:before {content: \"▸\";float: left;margin-right: 0.25em;color: #696969;}#sk-container-id-2 label.sk-toggleable__label-arrow:hover:before {color: black;}#sk-container-id-2 div.sk-estimator:hover label.sk-toggleable__label-arrow:before {color: black;}#sk-container-id-2 div.sk-toggleable__content {max-height: 0;max-width: 0;overflow: hidden;text-align: left;background-color: #f0f8ff;}#sk-container-id-2 div.sk-toggleable__content pre {margin: 0.2em;color: black;border-radius: 0.25em;background-color: #f0f8ff;}#sk-container-id-2 input.sk-toggleable__control:checked~div.sk-toggleable__content {max-height: 200px;max-width: 100%;overflow: auto;}#sk-container-id-2 input.sk-toggleable__control:checked~label.sk-toggleable__label-arrow:before {content: \"▾\";}#sk-container-id-2 div.sk-estimator input.sk-toggleable__control:checked~label.sk-toggleable__label {background-color: #d4ebff;}#sk-container-id-2 div.sk-label input.sk-toggleable__control:checked~label.sk-toggleable__label {background-color: #d4ebff;}#sk-container-id-2 input.sk-hidden--visually {border: 0;clip: rect(1px 1px 1px 1px);clip: rect(1px, 1px, 1px, 1px);height: 1px;margin: -1px;overflow: hidden;padding: 0;position: absolute;width: 1px;}#sk-container-id-2 div.sk-estimator {font-family: monospace;background-color: #f0f8ff;border: 1px dotted black;border-radius: 0.25em;box-sizing: border-box;margin-bottom: 0.5em;}#sk-container-id-2 div.sk-estimator:hover {background-color: #d4ebff;}#sk-container-id-2 div.sk-parallel-item::after {content: \"\";width: 100%;border-bottom: 1px solid gray;flex-grow: 1;}#sk-container-id-2 div.sk-label:hover label.sk-toggleable__label {background-color: #d4ebff;}#sk-container-id-2 div.sk-serial::before {content: \"\";position: absolute;border-left: 1px solid gray;box-sizing: border-box;top: 0;bottom: 0;left: 50%;z-index: 0;}#sk-container-id-2 div.sk-serial {display: flex;flex-direction: column;align-items: center;background-color: white;padding-right: 0.2em;padding-left: 0.2em;position: relative;}#sk-container-id-2 div.sk-item {position: relative;z-index: 1;}#sk-container-id-2 div.sk-parallel {display: flex;align-items: stretch;justify-content: center;background-color: white;position: relative;}#sk-container-id-2 div.sk-item::before, #sk-container-id-2 div.sk-parallel-item::before {content: \"\";position: absolute;border-left: 1px solid gray;box-sizing: border-box;top: 0;bottom: 0;left: 50%;z-index: -1;}#sk-container-id-2 div.sk-parallel-item {display: flex;flex-direction: column;z-index: 1;position: relative;background-color: white;}#sk-container-id-2 div.sk-parallel-item:first-child::after {align-self: flex-end;width: 50%;}#sk-container-id-2 div.sk-parallel-item:last-child::after {align-self: flex-start;width: 50%;}#sk-container-id-2 div.sk-parallel-item:only-child::after {width: 0;}#sk-container-id-2 div.sk-dashed-wrapped {border: 1px dashed gray;margin: 0 0.4em 0.5em 0.4em;box-sizing: border-box;padding-bottom: 0.4em;background-color: white;}#sk-container-id-2 div.sk-label label {font-family: monospace;font-weight: bold;display: inline-block;line-height: 1.2em;}#sk-container-id-2 div.sk-label-container {text-align: center;}#sk-container-id-2 div.sk-container {/* jupyter's `normalize.less` sets `[hidden] { display: none; }` but bootstrap.min.css set `[hidden] { display: none !important; }` so we also need the `!important` here to be able to override the default hidden behavior on the sphinx rendered scikit-learn.org. See: https://github.com/scikit-learn/scikit-learn/issues/21755 */display: inline-block !important;position: relative;}#sk-container-id-2 div.sk-text-repr-fallback {display: none;}</style><div id=\"sk-container-id-2\" class=\"sk-top-container\"><div class=\"sk-text-repr-fallback\"><pre>DecisionTreeRegressor()</pre><b>In a Jupyter environment, please rerun this cell to show the HTML representation or trust the notebook. <br />On GitHub, the HTML representation is unable to render, please try loading this page with nbviewer.org.</b></div><div class=\"sk-container\" hidden><div class=\"sk-item\"><div class=\"sk-estimator sk-toggleable\"><input class=\"sk-toggleable__control sk-hidden--visually\" id=\"sk-estimator-id-2\" type=\"checkbox\" checked><label for=\"sk-estimator-id-2\" class=\"sk-toggleable__label sk-toggleable__label-arrow\">DecisionTreeRegressor</label><div class=\"sk-toggleable__content\"><pre>DecisionTreeRegressor()</pre></div></div></div></div></div>"
      ],
      "text/plain": [
       "DecisionTreeRegressor()"
      ]
     },
     "execution_count": 25,
     "metadata": {},
     "output_type": "execute_result"
    }
   ],
   "source": [
    "from sklearn.tree import DecisionTreeRegressor\n",
    "\n",
    "# Create a Decision Tree Regressor model\n",
    "model = DecisionTreeRegressor()\n",
    "\n",
    "# Fit the model on the training data\n",
    "model.fit(X_train, y_train)\n"
   ]
  },
  {
   "cell_type": "code",
   "execution_count": 26,
   "id": "84ae9baf",
   "metadata": {},
   "outputs": [],
   "source": [
    "predictions = model.predict(X_test)"
   ]
  },
  {
   "cell_type": "code",
   "execution_count": 28,
   "id": "6967ef3c",
   "metadata": {},
   "outputs": [
    {
     "name": "stdout",
     "output_type": "stream",
     "text": [
      "MSE: 1.66, RMSE: 1.29, MAE: 1.00\n"
     ]
    }
   ],
   "source": [
    "from sklearn.metrics import mean_squared_error, mean_absolute_error\n",
    "\n",
    "# ... (your code to train and predict using DecisionTreeRegressor) ...\n",
    "\n",
    "# Calculate evaluation metrics\n",
    "mse = mean_squared_error(y_test, predictions)\n",
    "rmse = np.sqrt(mse)\n",
    "mae = mean_absolute_error(y_test, predictions)\n",
    "\n",
    "print(f'MSE: {mse:.2f}, RMSE: {rmse:.2f}, MAE: {mae:.2f}')\n"
   ]
  },
  {
   "cell_type": "code",
   "execution_count": null,
   "id": "35b2f4b3",
   "metadata": {},
   "outputs": [],
   "source": []
  }
 ],
 "metadata": {
  "kernelspec": {
   "display_name": "Python 3 (ipykernel)",
   "language": "python",
   "name": "python3"
  },
  "language_info": {
   "codemirror_mode": {
    "name": "ipython",
    "version": 3
   },
   "file_extension": ".py",
   "mimetype": "text/x-python",
   "name": "python",
   "nbconvert_exporter": "python",
   "pygments_lexer": "ipython3",
   "version": "3.11.4"
  }
 },
 "nbformat": 4,
 "nbformat_minor": 5
}
